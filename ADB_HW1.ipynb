{
 "cells": [
  {
   "cell_type": "code",
   "execution_count": 4,
   "id": "1cb34617-d6d6-49ed-bd04-797682db77ff",
   "metadata": {},
   "outputs": [
    {
     "name": "stdin",
     "output_type": "stream",
     "text": [
      "لطفا یک عدد وارد کنید:  12\n"
     ]
    },
    {
     "name": "stdout",
     "output_type": "stream",
     "text": [
      "2\n"
     ]
    }
   ],
   "source": [
    "#سوال اول\n",
    "def extract_even_digits(number):\n",
    "  even_digits = []\n",
    "  while number > 0:\n",
    "    digit = number % 10\n",
    "    if digit % 2 == 0:\n",
    "      even_digits.append(str(digit))\n",
    "    number //= 10\n",
    "\n",
    "  return '*'.join(even_digits[::-1])\n",
    "\n",
    "# گرفتن ورودی از کاربر\n",
    "\n",
    "number = int(input(\"لطفا یک عدد وارد کنید: \"))\n",
    "\n",
    "result = extract_even_digits(number)\n",
    "print(result)"
   ]
  },
  {
   "cell_type": "code",
   "execution_count": 51,
   "id": "72def1c5-4060-4406-ad62-022fe16d9b9a",
   "metadata": {},
   "outputs": [
    {
     "name": "stdout",
     "output_type": "stream",
     "text": [
      "نتیجه نهایی: -339483179552547159416326648031876594842697723643224699342264239501741507398572200372246821256763029869294086316584957498987138284111401897101343082440445206619907345938439092857745318279500545641153794812358145330936979883536103772761558811666542803778024407330952858863751419754228785018680390240516008383508010266595505427829015412632767936201487660843076244901315632019136352469024566812335829488772815887669131658653046626787127289940757812740214584542902208656824329076422398026202615986862622130402888140768785990741793269883533568936290693272967265552860968661575581195061746465075698699735334525265320207247888215542208158414444544047447475245209940205930131293044860849996170024784462881620876534008616086399911770802024366870568382537469213912701138882423984183745441385253604183301035832518216359824360821470673873480138972713926571119180073571312158006607236710705519323333160146535544785264374534752237599307934121850064864474191057727473242295646651852803910337330022065685126911197671517118643482467640839256225795405397332152936159092359646058121772925087913671083526781349376151088240904743461807305632516909802429987175181101220538109501655686944943217463499806990693285292568536205546312098992966103743430098058060124417291447604629745193653345532378176989515334566684946515896281736335132889887451993500962585404154403624446955489145944603573119756510462624579348749099841788014112149401600303672996004969236099831790335999894485140829446894619403425513467797603491335003543742627230203534060971707138352081218169716302923715296959651647475407641166872166844161171732471498307898644176927175325055686442046739823094129410522356653051041140255008936806257091790231279498175453969737203988920800729101343201697889283520102423908976948906380705066677307244869630412726375958194999174034201224743016933608630068537389498918154693108058880642767522866341736221782226177884465087368802785777329808512578504631453770645824954813447662595405827825075678580135795104228731142660940917614092988329593554781011965084510814052867302879638314459480738387662166309975456954064730187557013609496753895304029123227141064156280384279369972199677745218040926830875737332394250329689286765510744350973279042484239769315512632384317912393981945903427998514889502891711392273084039734973982100364613159771439499920323946222810975344908083815769053556008569850252428108109809894568678472021819426561212964720816674439624278796396085877682335403167587987952110247445397225851439261202455264166525696412478916805458756084095928287159016332498794147435282553679122093444403994/429\n"
     ]
    }
   ],
   "source": [
    "#  سوال دوم \n",
    "from sympy import factorial\n",
    "\n",
    "def calculate_term(n, numerator, denominator):\n",
    "    sign = (-1) ** (n-1)\n",
    "    return sign * factorial(numerator) / denominator\n",
    "\n",
    "def main():\n",
    "    result = 0\n",
    "    for i in range(1, 501):\n",
    "        numerator = 2 * i + 1\n",
    "        denominator = i + 9 if i % 2 == 0 else -i + 10\n",
    "        \n",
    "        # بررسی تقسیم بر صفر\n",
    "        if denominator == 0:\n",
    "            print(f\"تقسیم بر صفر در i={i}!\")\n",
    "            continue\n",
    "        \n",
    "        result += calculate_term(i, numerator, denominator)\n",
    "    \n",
    "    print(\"نتیجه نهایی:\", result)\n",
    "\n",
    "if __name__ == \"__main__\":\n",
    "    main()\n"
   ]
  },
  {
   "cell_type": "code",
   "execution_count": 17,
   "id": "bf6fdf61-dc57-4d09-a9d3-280dba49724f",
   "metadata": {},
   "outputs": [
    {
     "name": "stdout",
     "output_type": "stream",
     "text": [
      "1000, 1101, 1110, 1202, 1211, 1220, 1303, 1312, 1321, 1330, 1404, 1413, 1422, 1431, 1440, 1505, 1514, 1523, 1532, 1541, 1550, 1606, 1615, 1624, 1633, 1642, 1651, 1660, 1707, 1716, 1725, 1734, 1743, 1752, 1761, 1770, 1808, 1817, 1826, 1835, 1844, 1853, 1862, 1871, 1880, 1909, 1918, 1927, 1936, 1945, 1954, 1963, 1972, 1981, 1990, 2000, 2102, 2111, 2120, 2204, 2213, 2222, 2231, 2240, 2306, 2315, 2324, 2333, 2342, 2351, 2360, 2408, 2417, 2426, 2435, 2444, 2453, 2462, 2471, 2480, 2519, 2528, 2537, 2546, 2555, 2564, 2573, 2582, 2591, 2639, 2648, 2657, 2666, 2675, 2684, 2693, 2759, 2768, 2777, 2786, 2795, 2879, 2888, 2897, 2999, 3000, 3103, 3112, 3121, 3130, 3206, 3215, 3224, 3233, 3242, 3251, 3260, 3309, 3318, 3327, 3336, 3345, 3354, 3363, 3372, 3381, 3390, 3439, 3448, 3457, 3466, 3475, 3484, 3493, 3569, 3578, 3587, 3596, 3699, 4000, 4104, 4113, 4122, 4131, 4140, 4208, 4217, 4226, 4235, 4244, 4253, 4262, 4271, 4280, 4339, 4348, 4357, 4366, 4375, 4384, 4393, 4479, 4488, 4497, 5000, 5105, 5114, 5123, 5132, 5141, 5150, 5219, 5228, 5237, 5246, 5255, 5264, 5273, 5282, 5291, 5369, 5378, 5387, 5396, 6000, 6106, 6115, 6124, 6133, 6142, 6151, 6160, 6239, 6248, 6257, 6266, 6275, 6284, 6293, 6399, 7000, 7107, 7116, 7125, 7134, 7143, 7152, 7161, 7170, 7259, 7268, 7277, 7286, 7295, 8000, 8108, 8117, 8126, 8135, 8144, 8153, 8162, 8171, 8180, 8279, 8288, 8297, 9000, 9109, 9118, 9127, 9136, 9145, 9154, 9163, 9172, 9181, 9190, 9299\n"
     ]
    }
   ],
   "source": [
    "#سوال سوم \n",
    "def check_number(num):\n",
    "    # استخراج ارقام\n",
    "    first_digit = num // 1000\n",
    "    second_digit = (num // 100) % 10\n",
    "    third_digit = (num // 10) % 10\n",
    "    fourth_digit = num % 10\n",
    "\n",
    "    # بررسی شرط\n",
    "    return (third_digit + fourth_digit) == (first_digit * second_digit)\n",
    "\n",
    "# لیست برای ذخیره نتایج\n",
    "results = []\n",
    "\n",
    "# بررسی تمام اعداد چهار رقمی\n",
    "for num in range(1000, 10000):\n",
    "    if check_number(num):\n",
    "        results.append(num)\n",
    "\n",
    "print(\", \".join(map(str, results)))\n"
   ]
  },
  {
   "cell_type": "code",
   "execution_count": 52,
   "id": "58424ec1-90ff-4d70-a1c9-ac87cf580e1f",
   "metadata": {},
   "outputs": [
    {
     "name": "stdout",
     "output_type": "stream",
     "text": [
      "200, 202, 204, 206, 208, 220, 222, 224, 226, 228, 240, 242, 244, 246, 248, 260, 262, 264, 266, 268, 280, 282, 284, 286, 288, 400, 402, 404, 406, 408, 420, 422, 424, 426, 428, 440, 442, 444, 446, 448, 460, 462, 464, 466, 468, 480, 482, 484, 486, 488, 600, 602, 604, 606, 608, 620, 622, 624, 626, 628, 640, 642, 644, 646, 648, 660, 662, 664, 666, 668, 680, 682, 684, 686, 688, 800, 802, 804, 806, 808, 820, 822, 824, 826, 828, 840, 842, 844, 846, 848, 860, 862, 864, 866, 868, 880, 882, 884, 886, 888\n"
     ]
    }
   ],
   "source": [
    "#سوال چهارم\n",
    "def has_only_even_digits(num):\n",
    "    # تبدیل عدد به رشته برای پیمایش بر روی هر رقم\n",
    "    for digit in str(num):\n",
    "        if int(digit) % 2 != 0:  # بررسی اینکه آیا رقم فرد است\n",
    "            return False\n",
    "    return True\n",
    "\n",
    "# لیست برای ذخیره نتایج\n",
    "results = []\n",
    "\n",
    "# بررسی تمام اعداد سه رقمی\n",
    "for num in range(100, 1000):\n",
    "    if has_only_even_digits(num):\n",
    "        results.append(num)\n",
    "\n",
    "print(\", \".join(map(str, results)))"
   ]
  },
  {
   "cell_type": "code",
   "execution_count": 21,
   "id": "b89200a1-9b08-4b19-a1b7-29e5264fe247",
   "metadata": {},
   "outputs": [
    {
     "name": "stdin",
     "output_type": "stream",
     "text": [
      "لطفا اندازه الگو را وارد کنید:  5\n"
     ]
    },
    {
     "name": "stdout",
     "output_type": "stream",
     "text": [
      "1 \n",
      "2 4 \n",
      "3 6 9 \n",
      "4 8 12 16 \n",
      "5 10 15 20 25 \n"
     ]
    }
   ],
   "source": [
    "#سوال پنجم\n",
    "def print_pattern(n):\n",
    "\n",
    "  for i in range(1, n+1):\n",
    "    for j in range(1, i+1):\n",
    "      print(i*j, end=\" \")\n",
    "    print()\n",
    "\n",
    "# گرفتن ورودی از کاربر\n",
    "n = int(input(\"لطفا اندازه الگو را وارد کنید: \"))\n",
    "\n",
    "# چاپ الگو\n",
    "print_pattern(n)"
   ]
  },
  {
   "cell_type": "code",
   "execution_count": 53,
   "id": "f8ee5870-58c9-4f9a-9d13-a41be272bdbe",
   "metadata": {},
   "outputs": [
    {
     "name": "stdin",
     "output_type": "stream",
     "text": [
      "تعداد اعداد را وارد کنید:  2\n",
      "عدد 1 را وارد کنید:  2\n",
      "عدد 2 را وارد کنید:  3\n"
     ]
    },
    {
     "name": "stdout",
     "output_type": "stream",
     "text": [
      "\n",
      "نتایج\n",
      "بزرگ‌ترین عدد: 3.0\n",
      "کوچک‌ترین عدد: 2.0\n",
      "میانگین: 2.5\n",
      "انحراف استاندارد: 0.5\n"
     ]
    }
   ],
   "source": [
    "#سوال ششم\n",
    "import math\n",
    "\n",
    "def calculate_statistics(numbers):\n",
    "\n",
    "    maximum = max(numbers)\n",
    "    minimum = min(numbers)\n",
    "    average = sum(numbers) / len(numbers)\n",
    "\n",
    "    # محاسبه واریانس\n",
    "    variance = sum((x - average)**2 for x in numbers) / len(numbers)\n",
    "    # محاسبه انحراف استاندارد\n",
    "    std_dev = math.sqrt(variance)\n",
    "\n",
    "    return maximum, minimum, average, std_dev\n",
    "\n",
    "n = int(input(\"تعداد اعداد را وارد کنید: \"))\n",
    "numbers = []\n",
    "for i in range(n):\n",
    "    number = float(input(f\"عدد {i+1} را وارد کنید: \"))\n",
    "    numbers.append(number)\n",
    "\n",
    "# محاسبه و نمایش نتایج\n",
    "max_num, min_num, mean, std_dev = calculate_statistics(numbers)\n",
    "\n",
    "print(\"\\nنتایج\")\n",
    "print(f\"بزرگ‌ترین عدد: {max_num}\")\n",
    "print(f\"کوچک‌ترین عدد: {min_num}\")\n",
    "print(f\"میانگین: {mean}\")\n",
    "print(f\"انحراف استاندارد: {std_dev}\")"
   ]
  },
  {
   "cell_type": "code",
   "execution_count": 26,
   "id": "8b35f0aa-990a-48a1-b16f-a6e1352ab3aa",
   "metadata": {},
   "outputs": [
    {
     "name": "stdin",
     "output_type": "stream",
     "text": [
      "تعداد اعداد را وارد کنید:  3\n",
      "عدد 1 را وارد کنید:  12\n",
      "عدد 2 را وارد کنید:  13\n",
      "عدد 3 را وارد کنید:  156\n"
     ]
    },
    {
     "name": "stdout",
     "output_type": "stream",
     "text": [
      "میانگین: 60.333333333333336\n",
      "انحراف استاندارد: 67.64778061564343\n",
      "بزرگ‌ترین عدد: 156.0\n",
      "کوچک‌ترین عدد: 12.0\n"
     ]
    }
   ],
   "source": [
    "#سوال هفتم\n",
    "import math\n",
    "\n",
    "def get_numbers(n):\n",
    "  \n",
    "    numbers = []\n",
    "    for i in range(n):\n",
    "        number = float(input(f\"عدد {i+1} را وارد کنید: \"))\n",
    "        numbers.append(number)\n",
    "    return numbers\n",
    "\n",
    "def find_max(numbers):\n",
    "    \"\"\"\n",
    "    این تابع بزرگ‌ترین عدد در یک لیست را پیدا می‌کند.\n",
    "    \"\"\"\n",
    "    return max(numbers)\n",
    "\n",
    "def find_min(numbers):\n",
    "    \"\"\"\n",
    "    این تابع کوچک‌ترین عدد در یک لیست را پیدا می‌کند.\n",
    "    \"\"\"\n",
    "    return min(numbers)\n",
    "\n",
    "def calculate_average(numbers):\n",
    "    \"\"\"\n",
    "    این تابع میانگین اعداد یک لیست را محاسبه و چاپ می‌کند.\n",
    "    \"\"\"\n",
    "    average = sum(numbers) / len(numbers)\n",
    "    print(\"میانگین:\", average)\n",
    "\n",
    "def calculate_std_dev(numbers):\n",
    "    \"\"\"\n",
    "    این تابع انحراف استاندارد اعداد یک لیست را محاسبه و چاپ می‌کند.\n",
    "    \"\"\"\n",
    "    mean = sum(numbers) / len(numbers)\n",
    "    variance = sum((x - mean)**2 for x in numbers) / len(numbers)\n",
    "    std_dev = math.sqrt(variance)\n",
    "    print(\"انحراف استاندارد:\", std_dev)\n",
    "\n",
    "if __name__ == \"__main__\":\n",
    "    n = int(input(\"تعداد اعداد را وارد کنید: \"))\n",
    "    numbers = get_numbers(n)\n",
    "\n",
    "    maximum = find_max(numbers)\n",
    "    minimum = find_min(numbers)\n",
    "    calculate_average(numbers)\n",
    "    calculate_std_dev(numbers)\n",
    "\n",
    "    print(\"بزرگ‌ترین عدد:\", maximum)\n",
    "    print(\"کوچک‌ترین عدد:\", minimum)"
   ]
  },
  {
   "cell_type": "code",
   "execution_count": 28,
   "id": "1933ecf1-d2da-4ae7-9a5a-d77ac2872700",
   "metadata": {},
   "outputs": [
    {
     "name": "stdin",
     "output_type": "stream",
     "text": [
      "یک عدد 5 رقمی وارد کنید:  12345\n"
     ]
    },
    {
     "name": "stdout",
     "output_type": "stream",
     "text": [
      "عدد نهایی: 1234\n"
     ]
    }
   ],
   "source": [
    "#سوال هشتم\n",
    "def get_5_digit_number():\n",
    "\n",
    "    while True:\n",
    "        number = int(input(\"یک عدد 5 رقمی وارد کنید: \"))\n",
    "        if 10000 <= number <= 99999:\n",
    "            return number\n",
    "        else:\n",
    "            print(\"عدد وارد شده 5 رقمی نیست. لطفا دوباره تلاش کنید.\")\n",
    "\n",
    "def find_max_digit(number):\n",
    "    \"\"\"\n",
    "    این تابع بزرگترین رقم یک عدد را پیدا می‌کند.\n",
    "    \"\"\"\n",
    "    max_digit = 0\n",
    "    while number > 0:\n",
    "        digit = number % 10\n",
    "        max_digit = max(max_digit, digit)\n",
    "        number //= 10\n",
    "    return max_digit\n",
    "\n",
    "def remove_max_digit(number, max_digit):\n",
    "    \"\"\"\n",
    "    این تابع بزرگترین رقم را از یک عدد حذف می‌کند.\n",
    "    \"\"\"\n",
    "    result = 0\n",
    "    power = 1\n",
    "    while number > 0:\n",
    "        digit = number % 10\n",
    "        if digit != max_digit:\n",
    "            result += digit * power\n",
    "            power *= 10\n",
    "        number //= 10\n",
    "    return result\n",
    "\n",
    "if __name__ == \"__main__\":\n",
    "    number = get_5_digit_number()\n",
    "    max_digit = find_max_digit(number)\n",
    "    final_number = remove_max_digit(number, max_digit)\n",
    "    print(\"عدد نهایی:\", final_number)"
   ]
  },
  {
   "cell_type": "code",
   "execution_count": 29,
   "id": "b51f0e93-5873-404f-affb-abc6b6ccc034",
   "metadata": {},
   "outputs": [
    {
     "name": "stdout",
     "output_type": "stream",
     "text": [
      "I live in Khorramabad\n"
     ]
    }
   ],
   "source": [
    "# سوال نهم p1\n",
    "def f():\n",
    "    # local variable\n",
    "    s = \"I live in Khorramabad\"\n",
    "    print(s)\n",
    "\n",
    "# Main\n",
    "f()"
   ]
  },
  {
   "cell_type": "code",
   "execution_count": 30,
   "id": "c5456163-18e8-41e4-bfdb-0bb09c42e4ce",
   "metadata": {},
   "outputs": [
    {
     "name": "stdout",
     "output_type": "stream",
     "text": [
      "Inside Function: I live in Khorramabad\n"
     ]
    },
    {
     "ename": "NameError",
     "evalue": "name 's' is not defined",
     "output_type": "error",
     "traceback": [
      "\u001b[1;31m---------------------------------------------------------------------------\u001b[0m",
      "\u001b[1;31mNameError\u001b[0m                                 Traceback (most recent call last)",
      "Cell \u001b[1;32mIn[30], line 8\u001b[0m\n\u001b[0;32m      6\u001b[0m \u001b[38;5;66;03m# Main\u001b[39;00m\n\u001b[0;32m      7\u001b[0m f()\n\u001b[1;32m----> 8\u001b[0m \u001b[38;5;28mprint\u001b[39m(\u001b[43ms\u001b[49m)\n",
      "\u001b[1;31mNameError\u001b[0m: name 's' is not defined"
     ]
    }
   ],
   "source": [
    "# سوال نهم p2\n",
    "\n",
    "def f():\n",
    "    # local variable\n",
    "    s = \"I live in Khorramabad\"\n",
    "    print(\"Inside Function:\", s)\n",
    "\n",
    "# Main\n",
    "f()\n",
    "print(s)"
   ]
  },
  {
   "cell_type": "code",
   "execution_count": 31,
   "id": "439a2afc-56c8-408e-8565-6cea94472e11",
   "metadata": {},
   "outputs": [
    {
     "name": "stdout",
     "output_type": "stream",
     "text": [
      "I live in Khorramabad.\n",
      "I live in Khorramabad.\n"
     ]
    }
   ],
   "source": [
    "# سوال نهم p3\n",
    "\n",
    "def f():\n",
    "    global s\n",
    "    s = 'I live in Khorramabad.'\n",
    "    print(s)\n",
    "\n",
    "# Main: Global Scope\n",
    "s = 'I live in Iran.'\n",
    "f()\n",
    "print(s)"
   ]
  },
  {
   "cell_type": "code",
   "execution_count": 32,
   "id": "5065470d-a346-4227-9051-d7d3bc2a386c",
   "metadata": {},
   "outputs": [
    {
     "name": "stdout",
     "output_type": "stream",
     "text": [
      "I live in Khorramabad\n",
      "I live in Iran\n"
     ]
    }
   ],
   "source": [
    "# سوال نهم p4\n",
    "\n",
    "def f():\n",
    "    s=\"I live in Khorramabad\"\n",
    "    print(s)\n",
    "\n",
    "# Main\n",
    "s = \"I live in Iran\"\n",
    "f()\n",
    "print(s)"
   ]
  },
  {
   "cell_type": "code",
   "execution_count": 54,
   "id": "a49f56c7-9ce2-48d4-b7dd-b909e881fc17",
   "metadata": {},
   "outputs": [
    {
     "name": "stdout",
     "output_type": "stream",
     "text": [
      "24\n"
     ]
    }
   ],
   "source": [
    "#سوال دهم\n",
    "def factorial(x):\n",
    "    if x == 1:  # شرط پایه\n",
    "        return 1\n",
    "    else:\n",
    "        return (x * factorial(x-1))\n",
    "print(factorial(4))"
   ]
  },
  {
   "cell_type": "code",
   "execution_count": null,
   "id": "214e2235-44ef-4a74-8e87-1c90d380a1cf",
   "metadata": {},
   "outputs": [],
   "source": []
  }
 ],
 "metadata": {
  "kernelspec": {
   "display_name": "Python 3 (ipykernel)",
   "language": "python",
   "name": "python3"
  },
  "language_info": {
   "codemirror_mode": {
    "name": "ipython",
    "version": 3
   },
   "file_extension": ".py",
   "mimetype": "text/x-python",
   "name": "python",
   "nbconvert_exporter": "python",
   "pygments_lexer": "ipython3",
   "version": "3.12.0"
  }
 },
 "nbformat": 4,
 "nbformat_minor": 5
}
